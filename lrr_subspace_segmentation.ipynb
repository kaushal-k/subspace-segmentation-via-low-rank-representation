{
  "nbformat": 4,
  "nbformat_minor": 0,
  "metadata": {
    "colab": {
      "name": "lrr_subspace_segmentation",
      "provenance": [],
      "collapsed_sections": []
    },
    "kernelspec": {
      "name": "python3",
      "display_name": "Python 3"
    },
    "language_info": {
      "name": "python"
    }
  },
  "cells": [
    {
      "cell_type": "code",
      "metadata": {
        "id": "CP8fygQHVfl2"
      },
      "source": [
        "import numpy as np\n",
        "from scipy.linalg import orth"
      ],
      "execution_count": 1,
      "outputs": []
    },
    {
      "cell_type": "code",
      "metadata": {
        "id": "gCwx9AXuSmnA"
      },
      "source": [
        "def lrr(X, lamda, itr_max, norm_choice=0):\n",
        "  # returns the LRR\n",
        "  # norm choices:\n",
        "  # 0 : max element in X\n",
        "  # 1 : infinity norm\n",
        "  # 2 : l2 norm\n",
        "  # 3 : l1 norm\n",
        "  # 4 : l-2 norm (smallest singular value)\n",
        "  # 5 : l-1 norm (smallest  absolute row sum)\n",
        "\n",
        "  A = X\n",
        "  P = orth(A.T)\n",
        "  B = np.dot(A, P)\n",
        "  d, n = X.shape\n",
        "  m = B.shape[1]\n",
        "\n",
        "  # initial values\n",
        "  Z = np.zeros((m,n), dtype=np.float32)\n",
        "  J = np.zeros((m,n), dtype=np.float32)\n",
        "  E = np.zeros((d,n), dtype=np.float32)\n",
        "  Y1 = np.zeros((d,n), dtype=np.float32)\n",
        "  Y2 = np.zeros((m,n), dtype=np.float32)\n",
        "  mu = 1.0E-6\n",
        "  mu_max = 1.0E+10\n",
        "  rho = 1.1\n",
        "  epsilon = 1.0E-8\n",
        "\n",
        "  itr = 0\n",
        "\n",
        "  params = []\n",
        "  while itr < itr_max:\n",
        "    itr = itr + 1\n",
        "    # if itr % 100 == 0:\n",
        "    #   print('LRR itr=',itr)\n",
        "    #   print('Convergence:', max(norm_eq1,norm_eq2))\n",
        "\n",
        "    # optimizing over J (Step 1)\n",
        "    Y = Z + Y2/mu\n",
        "    U, sdiag, Vh = np.linalg.svd(Y, full_matrices=False)\n",
        "    V = Vh.T\n",
        "    r = sum(sdiag > 1.0/mu)\n",
        "    if r == 0:\n",
        "      sigma_thres = [0]\n",
        "    else:\n",
        "      sigma_thres = sdiag[0:r+1] - 1.0/mu\n",
        "    Usigma = np.dot( U[:,0:r+1], np.diag(sigma_thres) )\n",
        "    J = np.dot( Usigma, V[:,0:r+1].T );\n",
        "\n",
        "    # optimizing over Z (Step 2)\n",
        "    factor1 = np.linalg.inv( np.identity(m) + np.dot(B.T,B) )\n",
        "    factor2 = np.dot( B.T,(X-E) ) + J + ( np.dot(B.T,Y1)-Y2 )/mu\n",
        "    Z = np.dot( factor1, factor2 )\n",
        "    rank_Z = np.linalg.matrix_rank(Z)\n",
        "\n",
        "    # optimizing over E (Step 3)\n",
        "    alpha = lamda/mu\n",
        "    Q = X - np.dot(B,Z) + Y1/mu\n",
        "    for i in range( Q.shape[1] ):\n",
        "      q = Q[:,[i]]\n",
        "      q_norm = np.linalg.norm( q,2 )\n",
        "      if q_norm > alpha:\n",
        "        scalar = (q_norm - alpha) / q_norm\n",
        "        E[:,[i]] = scalar * q\n",
        "      else:\n",
        "        E[:,[i]] = np.zeros((d,1))\n",
        "\n",
        "    # updating multipliers (Step 4)\n",
        "    eq1 = X - np.dot(B,Z) - E\n",
        "    eq2 = Z - J\n",
        "    Y1 = Y1 + mu*eq1\n",
        "    Y2 = Y2 + mu*eq2\n",
        "\n",
        "    # updating mu (Step 5)\n",
        "    mu = min( rho*mu, mu_max )\n",
        "\n",
        "    # convergence conditions (Step 6)\n",
        "    norm_eq1 = 0\n",
        "    norm_eq2 = 0\n",
        "    if(norm_choice==0): # paper inf\n",
        "      norm_eq1 = np.amax( np.abs(eq1) )\n",
        "      norm_eq2 = np.amax( np.abs(eq2) )\n",
        "    elif (norm_choice==1): # actual inf\n",
        "      norm_eq1 = np.linalg.norm(eq1, np.inf)\n",
        "      norm_eq2 = np.linalg.norm(eq2, np.inf)\n",
        "    elif (norm_choice==2): # l2\n",
        "      norm_eq1 = np.linalg.norm(eq1, 2)\n",
        "      norm_eq2 = np.linalg.norm(eq2, 2)\n",
        "    elif (norm_choice==3): # l1\n",
        "      norm_eq1 = np.linalg.norm(eq1, 1)\n",
        "      norm_eq2 = np.linalg.norm(eq2, 1)\n",
        "    elif (norm_choice==4): # l-2\n",
        "      norm_eq1 = np.linalg.norm(eq1, -2)\n",
        "      norm_eq2 = np.linalg.norm(eq2, -2)\n",
        "    elif (norm_choice==5): # l-1\n",
        "      norm_eq1 = np.linalg.norm(eq1, -1)\n",
        "      norm_eq2 = np.linalg.norm(eq2, -1)\n",
        "\n",
        "    params.append( {'mu':mu, 'max_norm_eq':max(norm_eq1,norm_eq2), 'r':r, 'rank_Z':rank_Z, 'iter':itr} )\n",
        "\n",
        "    if norm_eq1 < epsilon and norm_eq2 < epsilon:\n",
        "      break\n",
        "\n",
        "  return np.dot(P,Z), E, params\n",
        "  # returns Z_star, E_star, dictionary of parameter values at each iteration"
      ],
      "execution_count": 2,
      "outputs": []
    },
    {
      "cell_type": "code",
      "metadata": {
        "id": "Bk3O_XzbQ1Uo",
        "colab": {
          "base_uri": "https://localhost:8080/"
        },
        "outputId": "c045bd8c-8919-4f20-f6c2-3195270a57fc"
      },
      "source": [
        "!rm -r /content/subspace-segmentation-via-low-rank-representation/\n",
        "!git clone https://github.com/kaushal-k/subspace-segmentation-via-low-rank-representation.git"
      ],
      "execution_count": 3,
      "outputs": [
        {
          "output_type": "stream",
          "text": [
            "rm: cannot remove '/content/subspace-segmentation-via-low-rank-representation/': No such file or directory\n",
            "Cloning into 'subspace-segmentation-via-low-rank-representation'...\n",
            "remote: Enumerating objects: 520, done.\u001b[K\n",
            "remote: Counting objects: 100% (520/520), done.\u001b[K\n",
            "remote: Compressing objects: 100% (436/436), done.\u001b[K\n",
            "remote: Total 520 (delta 79), reused 520 (delta 79), pack-reused 0\u001b[K\n",
            "Receiving objects: 100% (520/520), 31.63 MiB | 35.83 MiB/s, done.\n",
            "Resolving deltas: 100% (79/79), done.\n"
          ],
          "name": "stdout"
        }
      ]
    },
    {
      "cell_type": "code",
      "metadata": {
        "id": "8Eap1HNy7Vjh"
      },
      "source": [
        "import os\n",
        "from scipy.io import loadmat\n",
        "from sklearn.cluster import KMeans\n",
        "from itertools import permutations"
      ],
      "execution_count": 4,
      "outputs": []
    },
    {
      "cell_type": "code",
      "metadata": {
        "id": "MZ5F7FvYGJKW"
      },
      "source": [
        "def affinity_matrix(Z_star):\n",
        "  # Z_star : LRR\n",
        "  # returns the affinity matrix\n",
        "\n",
        "  # Step 2\n",
        "  U, sdiag, Vh = np.linalg.svd(Z_star, full_matrices=False)\n",
        "  V = Vh.T\n",
        "  zero_thres = 0.0001 * sdiag[0]\n",
        "  r = sum( sdiag > zero_thres )\n",
        "  U = U[:,0:r+1]\n",
        "  sdiag = sdiag[0:r+1]\n",
        "\n",
        "  # Step 3\n",
        "  U_tilda_inter = np.dot( U, np.diag(np.sqrt(sdiag)) )\n",
        "  U_tilda = U_tilda_inter / np.linalg.norm(U_tilda_inter, ord=2, axis=1, keepdims=True)\n",
        "  W = np.square( np.dot(U_tilda,U_tilda.T) )\n",
        "  W = np.square( W )\n",
        "\n",
        "  return W"
      ],
      "execution_count": 5,
      "outputs": []
    },
    {
      "cell_type": "code",
      "metadata": {
        "id": "Fh92b877IiUE"
      },
      "source": [
        "def spectral_clustering(W,K):\n",
        "  # W : affinity matrix\n",
        "  # K : no. of subspace clusters\n",
        "  # NCut clustering\n",
        "\n",
        "  # Step 4 (Spectral Clustering)\n",
        "  Ddiag = 1.0 / np.sqrt( W.sum(axis=1, dtype=np.float) )\n",
        "  D = np.diag(Ddiag)\n",
        "  L = np.dot( D, np.dot(W,D) )\n",
        "  U, s, Vh = np.linalg.svd(L)\n",
        "  V = U[:,0:K]\n",
        "  V = np.dot( D,V )\n",
        "  res = KMeans(n_clusters=K, init='k-means++', random_state=1).fit_predict(V)\n",
        "  res = res + 1\n",
        "\n",
        "  return res"
      ],
      "execution_count": 6,
      "outputs": []
    },
    {
      "cell_type": "code",
      "metadata": {
        "id": "hBMLikMnCqL2"
      },
      "source": [
        "def motion_seg(lamda, lrr_itr_max, norm_choice):  \n",
        "  # motion segmentation on Hopkins155 datset\n",
        "  dataset = []\n",
        "  error = []\n",
        "  params = []\n",
        "  last_exec = ''\n",
        "\n",
        "  # hopkins155_path = '/content/ee609_data/Hopkins155/'\n",
        "  hopkins155_path = '/content/subspace-segmentation-via-low-rank-representation/Data/Hopkins155/'\n",
        "  for dir in os.listdir(hopkins155_path):\n",
        "    if os.path.isdir(hopkins155_path+dir):\n",
        "      data = loadmat(hopkins155_path+dir+'/'+dir+'_truth.mat')\n",
        "      # frames x points (a tracked point is one sample in this one motion sequnce)\n",
        "      X = np.concatenate([ data['x'][0,:,:].T, data['x'][1,:,:].T ])\n",
        "      row_ones = np.ones( (1,X.shape[1]), dtype=np.float32 )\n",
        "      X = np.concatenate( [X, row_ones] )\n",
        "      S = data['s']\n",
        "      dataset.append( {'name':dir, 'X':X, 'seg_ids':S} )\n",
        "\n",
        "  for data in dataset:\n",
        "    print('Working on: ', data['name'])\n",
        "\n",
        "    last_exec = data['name']\n",
        "\n",
        "    # given number of subspace segments\n",
        "    K = np.amax( data['seg_ids'] )\n",
        "\n",
        "    # Step 1 (Low-Rank Representation)\n",
        "    Z_star, E_star, params = lrr(data['X'], lamda, lrr_itr_max, norm_choice)\n",
        "\n",
        "    # Steps 2 & 3 (Affinity Matrix)\n",
        "    W = affinity_matrix(Z_star)\n",
        "\n",
        "    res = spectral_clustering(W,K)\n",
        "\n",
        "    # errors\n",
        "    rng = [*range(1,K+1,1)]\n",
        "    perms = list( permutations(rng) )\n",
        "    perms = np.array(perms)\n",
        "    perms = np.flip(perms, axis=0)\n",
        "    perms_dim = perms.shape[0]\n",
        "    miss = np.zeros( (perms_dim,1), dtype=np.float32 )\n",
        "    for i in range(perms_dim):\n",
        "      absol = np.abs( res[:] - perms[ i, data['seg_ids'].T-1 ] )\n",
        "      absol = absol > 0.1\n",
        "      miss[i,0] = np.sum(absol)\n",
        "    seg_err = 1.0*np.amin(miss) / res.shape[0]\n",
        "    error.append(seg_err)\n",
        "\n",
        "  return error, params, last_exec\n",
        "  # last_exec: file name of last data that was worked upon\n",
        "  # params: list of dictionary with keys mu, r, max_norm_eq, and iter, depicting evolution over iterations (corresponding to last_exec)"
      ],
      "execution_count": 7,
      "outputs": []
    },
    {
      "cell_type": "code",
      "metadata": {
        "colab": {
          "base_uri": "https://localhost:8080/"
        },
        "id": "GQTBAtHSh-Hd",
        "outputId": "ef125351-42a6-40dc-ac9b-ccf8737e9b2d"
      },
      "source": [
        "# Run this and the next 2 cells for norm_choice = 0, but different values of lamda_motion = 1, 2, 3, 3.6, 4, 4.6, 6, 7 to obtain plots and error results\n",
        "# Run this and the next 2 cells for lamda_motion=4.6, but different values of norm_choice = 0, 1, 2, 3, 4, 5\n",
        "# (One run of this cell will take about 25-30 mins)\n",
        "\n",
        "lamda_motion = 4.6\n",
        "max_iter_motion = 500\n",
        "norm_choice = 0\n",
        "error, params, last_exec = motion_seg(lamda_motion, max_iter_motion, norm_choice)"
      ],
      "execution_count": 8,
      "outputs": [
        {
          "output_type": "stream",
          "text": [
            "Working on:  2T3RCR_g13\n",
            "Working on:  1R2RC\n",
            "Working on:  cars5\n",
            "Working on:  cars2_07_g12\n",
            "Working on:  cars2B_g23\n",
            "Working on:  2T3RCRT_g12\n",
            "Working on:  cars10\n",
            "Working on:  cars5_g13\n",
            "Working on:  two_cranes_g23\n",
            "Working on:  2R3RTCRT\n",
            "Working on:  cars2_06_g13\n",
            "Working on:  people1\n",
            "Working on:  people2\n",
            "Working on:  cars2_06_g12\n",
            "Working on:  cars8\n",
            "Working on:  2R3RTC_g13\n",
            "Working on:  cars1\n",
            "Working on:  2RT3RTCRT\n",
            "Working on:  1RT2TC_g13\n",
            "Working on:  1R2RC_g12\n",
            "Working on:  2T3RCRTP\n",
            "Working on:  2T3RCRT_g23\n",
            "Working on:  cars10_g23\n",
            "Working on:  2RT3RCR_g23\n",
            "Working on:  2RT3RCT_B_g12\n",
            "Working on:  2RT3RCT_A_g12\n",
            "Working on:  1R2RCT_A_g13\n",
            "Working on:  1R2RCT_B_g13\n",
            "Working on:  cars4\n",
            "Working on:  1RT2RCR_g13\n",
            "Working on:  2R3RTCRT_g12\n",
            "Working on:  1R2RCT_B\n",
            "Working on:  2RT3RCT_A_g23\n",
            "Working on:  1R2RCR\n",
            "Working on:  1RT2RCR\n",
            "Working on:  2T3RCRTP_g23\n",
            "Working on:  cars3\n",
            "Working on:  cars2_07_g23\n",
            "Working on:  cars3_g23\n",
            "Working on:  1RT2TC\n",
            "Working on:  1RT2TC_g23\n",
            "Working on:  2RT3RCR\n",
            "Working on:  2RT3RC_g12\n",
            "Working on:  1R2TCR_g13\n",
            "Working on:  cars6\n",
            "Working on:  1R2RCR_g23\n",
            "Working on:  1R2RCT_A_g23\n",
            "Working on:  2R3RTC\n",
            "Working on:  2T3RCRTP_g13\n",
            "Working on:  cars9_g13\n",
            "Working on:  three-cars_g12\n",
            "Working on:  2RT3RCT_B_g13\n",
            "Working on:  1R2RCT_B_g23\n",
            "Working on:  2RT3RTCRT_g23\n",
            "Working on:  cars5_g23\n",
            "Working on:  1RT2TCRT_A_g23\n",
            "Working on:  2RT3RTCRT_g12\n",
            "Working on:  cars2_07\n",
            "Working on:  cars2B\n",
            "Working on:  1RT2RTCRT_A_g23\n",
            "Working on:  2T3RCR_g23\n",
            "Working on:  1RT2RCRT_g12\n",
            "Working on:  1RT2TCRT_B_g13\n",
            "Working on:  articulated_g23\n",
            "Working on:  1R2RC_g23\n",
            "Working on:  2T3RTCR_g23\n",
            "Working on:  2RT3RCT_B_g23\n",
            "Working on:  1R2RCT_B_g12\n",
            "Working on:  cars2B_g13\n",
            "Working on:  1R2TCRT\n",
            "Working on:  2T3RTCR_g12\n",
            "Working on:  1R2TCRT_g23\n",
            "Working on:  1R2RCR_g12\n",
            "Working on:  2R3RTCRT_g23\n",
            "Working on:  2RT3RCT_A_g13\n",
            "Working on:  1RT2TCRT_B\n",
            "Working on:  1R2TCR_g12\n",
            "Working on:  cars3_g12\n",
            "Working on:  cars9\n",
            "Working on:  2RT3RTCRT_g13\n",
            "Working on:  1RT2TC_g12\n",
            "Working on:  truck2\n",
            "Working on:  head\n",
            "Working on:  2T3RTCR\n",
            "Working on:  kanatani3\n",
            "Working on:  1R2TCRT_g13\n",
            "Working on:  1RT2RTCRT_A_g12\n",
            "Working on:  cars9_g23\n",
            "Working on:  2RT3RCR_g13\n",
            "Working on:  2RT3RCT_B\n",
            "Working on:  three-cars_g13\n",
            "Working on:  arm\n",
            "Working on:  cars5_g12\n",
            "Working on:  1RT2RTCRT_B_g13\n",
            "Working on:  2T3RCR\n",
            "Working on:  2T3RCTP\n",
            "Working on:  1RT2RCRT\n",
            "Working on:  1R2RCR_g13\n",
            "Working on:  1RT2TCRT_A_g13\n",
            "Working on:  2RT3RC_g23\n",
            "Working on:  2RT3RCT_A\n",
            "Working on:  1RT2RCR_g12\n",
            "Working on:  1R2TCR\n",
            "Working on:  cars2_06_g23\n",
            "Working on:  1RT2RTCRT_B_g12\n",
            "Working on:  dancing\n",
            "Working on:  two_cranes_g12\n",
            "Working on:  2T3RCTP_g12\n",
            "Working on:  2T3RTCR_g13\n",
            "Working on:  articulated\n",
            "Working on:  1R2RC_g13\n",
            "Working on:  two_cranes_g13\n",
            "Working on:  articulated_g12\n",
            "Working on:  1RT2RCR_g23\n",
            "Working on:  2RT3RC_g13\n",
            "Working on:  cars9_g12\n",
            "Working on:  articulated_g13\n",
            "Working on:  cars2_07_g13\n",
            "Working on:  2RT3RCR_g12\n",
            "Working on:  cars3_g13\n",
            "Working on:  two_cranes\n",
            "Working on:  cars2_06\n",
            "Working on:  three-cars\n",
            "Working on:  cars7\n",
            "Working on:  2T3RCRT\n",
            "Working on:  1RT2TCRT_B_g23\n",
            "Working on:  2R3RTC_g23\n",
            "Working on:  kanatani2\n",
            "Working on:  kanatani1\n",
            "Working on:  1RT2RCRT_g23\n",
            "Working on:  1R2TCR_g23\n",
            "Working on:  2T3RCTP_g13\n",
            "Working on:  cars10_g12\n",
            "Working on:  2RT3RC\n",
            "Working on:  cars2\n",
            "Working on:  1R2RCT_A_g12\n",
            "Working on:  1RT2TCRT_A\n",
            "Working on:  2T3RCTP_g23\n",
            "Working on:  cars2B_g12\n",
            "Working on:  truck1\n",
            "Working on:  1RT2RTCRT_A_g13\n",
            "Working on:  1RT2RTCRT_B_g23\n",
            "Working on:  1R2TCRT_g12\n",
            "Working on:  cars10_g13\n",
            "Working on:  1RT2TCRT_A_g12\n",
            "Working on:  2T3RCRT_g13\n",
            "Working on:  1RT2RCRT_g13\n",
            "Working on:  1RT2RTCRT_B\n",
            "Working on:  three-cars_g23\n",
            "Working on:  1R2RCT_A\n",
            "Working on:  2T3RCRTP_g12\n",
            "Working on:  2R3RTCRT_g13\n",
            "Working on:  1RT2TCRT_B_g12\n",
            "Working on:  1RT2RTCRT_A\n",
            "Working on:  2T3RCR_g12\n",
            "Working on:  2R3RTC_g12\n"
          ],
          "name": "stdout"
        }
      ]
    },
    {
      "cell_type": "code",
      "metadata": {
        "id": "YH1xZRVhBQ89",
        "colab": {
          "base_uri": "https://localhost:8080/"
        },
        "outputId": "5cb07f0f-cc55-49e3-b4f6-5e3497abdaf0"
      },
      "source": [
        "# to calulcate errors\n",
        "from statistics import mean, stdev\n",
        "print('motion segmentation error statistics on hopkins155')\n",
        "print('lamda=',lamda_motion)\n",
        "print('max_iter=',max_iter_motion)\n",
        "print('norm_choice=', norm_choice)\n",
        "print('mean error',mean(error))\n",
        "print('stdev error', stdev(error))\n",
        "print('max error', max(error))\n",
        "print('min error', min(error))"
      ],
      "execution_count": 9,
      "outputs": [
        {
          "output_type": "stream",
          "text": [
            "motion segmentation error statistics on hopkins155\n",
            "lamda= 4.6\n",
            "max_iter= 500\n",
            "norm_choice= 0\n",
            "mean error 0.017213136077969312\n",
            "stdev error 0.048956981307033985\n",
            "max error 0.3333333333333333\n",
            "min error 0.0\n"
          ],
          "name": "stdout"
        }
      ]
    },
    {
      "cell_type": "code",
      "metadata": {
        "colab": {
          "base_uri": "https://localhost:8080/",
          "height": 1000
        },
        "id": "HHKGYaPTrKR8",
        "outputId": "737828c6-5c77-478f-ebb7-0b67935acd58"
      },
      "source": [
        "import matplotlib.pyplot as plt\n",
        "print('lamda=',lamda_motion)\n",
        "print('max_iter=',max_iter_motion)\n",
        "print('norm_choice=', norm_choice)\n",
        "\n",
        "print('Parameter Evolution with iterations for motion_seg in file:', last_exec)\n",
        "iters = []\n",
        "mus = []\n",
        "rs = []\n",
        "rank_Zs = []\n",
        "max_norm_eqs = []\n",
        "for d in params:\n",
        "  iters.append(d['iter'])\n",
        "  mus.append(d['mu'])\n",
        "  rs.append(d['r'])\n",
        "  rank_Zs.append(d['rank_Z'])\n",
        "  max_norm_eqs.append(d['max_norm_eq'])\n",
        "\n",
        "print('Final values:')\n",
        "print('mu:',mus[-1], ' r:',rs[-1], ' max_norm_eq:',max_norm_eqs[-1], 'rank_Z:',rank_Zs[-1], ' iters:',iters[-1], '\\n')\n",
        "\n",
        "plt.figure(figsize=(6,4))\n",
        "plt.rcParams.update({'font.size': 14})\n",
        "plt.plot(iters,mus)\n",
        "plt.xlabel('# iteration')\n",
        "plt.ylabel('\\u03BC')\n",
        "plt.show()\n",
        "\n",
        "plt.figure(figsize=(6,4))\n",
        "plt.rcParams.update({'font.size': 14})\n",
        "plt.plot(iters,rs)\n",
        "plt.xlabel('# iteration')\n",
        "plt.ylabel('rank(Z+Y2/\\u03BC)')\n",
        "plt.show()\n",
        "\n",
        "plt.figure(figsize=(6,4))\n",
        "plt.rcParams.update({'font.size': 14})\n",
        "plt.plot(iters,max_norm_eqs)\n",
        "plt.xlabel('# iteration')\n",
        "plt.ylabel('convergence error')\n",
        "plt.show()\n",
        "\n",
        "plt.figure(figsize=(6,4))\n",
        "plt.rcParams.update({'font.size': 14})\n",
        "plt.plot(iters,rank_Zs)\n",
        "plt.xlabel('# iteration')\n",
        "plt.ylabel('rank(Z)')\n",
        "plt.show()"
      ],
      "execution_count": 10,
      "outputs": [
        {
          "output_type": "stream",
          "text": [
            "lamda= 4.6\n",
            "max_iter= 500\n",
            "norm_choice= 0\n",
            "Parameter Evolution with iterations for motion_seg in file: 2R3RTC_g12\n",
            "Final values:\n",
            "mu: 112680.02566852688  r: 9  max_norm_eq: 9.976372075670703e-09 rank_Z: 59  iters: 267 \n",
            "\n"
          ],
          "name": "stdout"
        },
        {
          "output_type": "display_data",
          "data": {
            "image/png": "[encoded data removed]",
            "text/plain": [
              "<Figure size 432x288 with 1 Axes>"
            ]
          },
          "metadata": {
            "tags": [],
            "needs_background": "light"
          }
        },
        {
          "output_type": "display_data",
          "data": {
            "image/png": "[encoded data removed]",
            "text/plain": [
              "<Figure size 432x288 with 1 Axes>"
            ]
          },
          "metadata": {
            "tags": [],
            "needs_background": "light"
          }
        },
        {
          "output_type": "display_data",
          "data": {
            "image/png": "[encoded data removed]",
            "text/plain": [
              "<Figure size 432x288 with 1 Axes>"
            ]
          },
          "metadata": {
            "tags": [],
            "needs_background": "light"
          }
        },
        {
          "output_type": "display_data",
          "data": {
            "image/png": "[encoded data removed]",
            "text/plain": [
              "<Figure size 432x288 with 1 Axes>"
            ]
          },
          "metadata": {
            "tags": [],
            "needs_background": "light"
          }
        }
      ]
    },
    {
      "cell_type": "code",
      "metadata": {
        "id": "V9pbaBGuzP9M"
      },
      "source": [
        "def face_seg(lamda, lrr_itr_max, norm_choice):\n",
        "  # face segmentation on yaleb10 dataset\n",
        "  # yaleb_path = '/content/ee609_data/yaleb10.mat'\n",
        "  yaleb_path = '/content/subspace-segmentation-via-low-rank-representation/Data/yaleb10.mat'\n",
        "  data = loadmat(yaleb_path)\n",
        "  X = data['obj'][0,0][0]\n",
        "  seg_ids = data['obj'][0,0][1].T\n",
        "\n",
        "  # given number of subspace segments\n",
        "  K = np.amax(seg_ids)\n",
        "\n",
        "  # Step 1 (Low-Rank Representation)\n",
        "  Z_star, E_star, lrr_params = lrr(X,lamda,lrr_itr_max, norm_choice)\n",
        "\n",
        "  # Steps 2 & 3 (Affinity Matrix)\n",
        "  W = affinity_matrix(Z_star)\n",
        "\n",
        "  # Step 4 (NCut Spectral Clustering)\n",
        "  res = spectral_clustering(W,K)\n",
        "  copy_res = res\n",
        "\n",
        "  # calculating accuracy\n",
        "  unique_segs_exp = np.unique(res)\n",
        "  for unique_seg_exp in unique_segs_exp:\n",
        "    filter = (res == unique_seg_exp)\n",
        "    gnd_filter = seg_ids[ filter ]\n",
        "    unique_gnd = np.unique( gnd_filter )\n",
        "    max_cnt = 0\n",
        "    majority_label = 0\n",
        "    for ug in unique_gnd:\n",
        "      cnt = np.sum( gnd_filter==ug )\n",
        "      if cnt > max_cnt:\n",
        "        max_cnt = cnt\n",
        "        majority_label = ug\n",
        "    res[ filter ] = majority_label\n",
        "  res = np.reshape( res, (res.shape[0],1) )\n",
        "  acc = np.sum( res==seg_ids ) / res.shape[0]\n",
        "\n",
        "  return copy_res, res, acc, lrr_params"
      ],
      "execution_count": 11,
      "outputs": []
    },
    {
      "cell_type": "code",
      "metadata": {
        "id": "qoeDPwB2FaKY"
      },
      "source": [
        "# Run this and the next 1 cell for norm_choice=0, but different lamda_face = 0.06, 0.1, 0.12, 0.14, 0.16, 0.18, 0.20, 0.22\n",
        "# Run this and the next 1 cell for lamda_face = 0.16, but different norm_choice = 0, 1, 2, 3, 4, 5\n",
        "# (This cell will take about 7 mins)\n",
        "\n",
        "lamda_face = 0.16\n",
        "max_iters_face = 500\n",
        "norm_choice = 0\n",
        "copy_res, res, acc, lrr_params = face_seg(lamda_face,max_iters_face, norm_choice)"
      ],
      "execution_count": 12,
      "outputs": []
    },
    {
      "cell_type": "code",
      "metadata": {
        "id": "h32e19Q9zNdE",
        "colab": {
          "base_uri": "https://localhost:8080/",
          "height": 1000
        },
        "outputId": "d39edba5-b78a-4099-d970-50018bf90776"
      },
      "source": [
        "print('Face Segmentation')\n",
        "print('lamda=', lamda_face)\n",
        "print(\"max_iter=\", max_iters_face)\n",
        "print(\"norm_choice=\", norm_choice)\n",
        "print('accuracy=', acc)\n",
        "\n",
        "print('Parameter Evolution with iterations for face_seg')\n",
        "iters = []\n",
        "mus = []\n",
        "rs = []\n",
        "rank_Zs = []\n",
        "max_norm_eqs = []\n",
        "for d in lrr_params:\n",
        "  iters.append(d['iter'])\n",
        "  mus.append(d['mu'])\n",
        "  rs.append(d['r'])\n",
        "  rank_Zs.append(d['rank_Z'])\n",
        "  max_norm_eqs.append(d['max_norm_eq'])\n",
        "\n",
        "print('Final values:')\n",
        "print('mu:',mus[-1], ' r:',rs[-1], ' max_norm_eq:',max_norm_eqs[-1], 'rank_Z:',rank_Zs[-1], ' iters:',iters[-1], '\\n')\n",
        "\n",
        "plt.figure(figsize=(6,4))\n",
        "plt.rcParams.update({'font.size': 14})\n",
        "plt.plot(iters,mus)\n",
        "plt.xlabel('# iteration')\n",
        "plt.ylabel('\\u03BC')\n",
        "plt.show()\n",
        "\n",
        "plt.figure(figsize=(6,4))\n",
        "plt.rcParams.update({'font.size': 14})\n",
        "plt.plot(iters,rs)\n",
        "plt.xlabel('# iteration')\n",
        "plt.ylabel('rank(Z+Y2/\\u03BC)')\n",
        "plt.show()\n",
        "\n",
        "plt.figure(figsize=(6,4))\n",
        "plt.rcParams.update({'font.size': 14})\n",
        "plt.plot(iters,max_norm_eqs)\n",
        "plt.xlabel('# iteration')\n",
        "plt.ylabel('convergence error')\n",
        "plt.show()\n",
        "\n",
        "plt.figure(figsize=(6,4))\n",
        "plt.rcParams.update({'font.size': 14})\n",
        "plt.plot(iters,rank_Zs)\n",
        "plt.xlabel('# iteration')\n",
        "plt.ylabel('rank(Z)')\n",
        "plt.show()"
      ],
      "execution_count": 13,
      "outputs": [
        {
          "output_type": "stream",
          "text": [
            "Face Segmentation\n",
            "lamda= 0.16\n",
            "max_iter= 500\n",
            "norm_choice= 0\n",
            "accuracy= 0.634375\n",
            "Parameter Evolution with iterations for face_seg\n",
            "Final values:\n",
            "mu: 10000000000.0  r: 638  max_norm_eq: 3.8425021164911755e-08 rank_Z: 640  iters: 500 \n",
            "\n"
          ],
          "name": "stdout"
        },
        {
          "output_type": "display_data",
          "data": {
            "image/png": "[encoded data removed]",
            "text/plain": [
              "<Figure size 432x288 with 1 Axes>"
            ]
          },
          "metadata": {
            "tags": [],
            "needs_background": "light"
          }
        },
        {
          "output_type": "display_data",
          "data": {
            "image/png": "[encoded data removed]",
            "text/plain": [
              "<Figure size 432x288 with 1 Axes>"
            ]
          },
          "metadata": {
            "tags": [],
            "needs_background": "light"
          }
        },
        {
          "output_type": "display_data",
          "data": {
            "image/png": "[encoded data removed]",
            "text/plain": [
              "<Figure size 432x288 with 1 Axes>"
            ]
          },
          "metadata": {
            "tags": [],
            "needs_background": "light"
          }
        },
        {
          "output_type": "display_data",
          "data": {
            "image/png": "[encoded data removed]",
            "text/plain": [
              "<Figure size 432x288 with 1 Axes>"
            ]
          },
          "metadata": {
            "tags": [],
            "needs_background": "light"
          }
        }
      ]
    },
    {
      "cell_type": "code",
      "metadata": {
        "id": "pvw8L2C2aQhg"
      },
      "source": [
        "def soft_thres(s, t):\n",
        "  res = np.zeros( s.shape, dtype=np.float32 )\n",
        "  res[ s>=t ] = 1.0\n",
        "  res[ s<t ] = np.log( 1.0 + np.square(s[s<t]/t) )\n",
        "  return res"
      ],
      "execution_count": 14,
      "outputs": []
    },
    {
      "cell_type": "code",
      "metadata": {
        "id": "C5bGBv8b26Eg"
      },
      "source": [
        "def motion_seg_k(lamda, lrr_itr_max, t, norm_choice=0):\n",
        "  # Estimating number of subspace segments\n",
        "  dataset = []\n",
        "  error1 = []\n",
        "  params = []\n",
        "  last_exec = ''\n",
        "  num_pred = 0\n",
        "\n",
        "  # hopkins155_path = '/content/ee609_data/Hopkins155/'\n",
        "  hopkins155_path = '/content/subspace-segmentation-via-low-rank-representation/Data/Hopkins155/'\n",
        "  for dir in os.listdir(hopkins155_path):\n",
        "    if os.path.isdir(hopkins155_path+dir):\n",
        "      data = loadmat(hopkins155_path+dir+'/'+dir+'_truth.mat')\n",
        "      # frames x points (a tracked point is one sample in this one motion sequnce)\n",
        "      X = np.concatenate([ data['x'][0,:,:].T, data['x'][1,:,:].T ])\n",
        "      row_ones = np.ones( (1,X.shape[1]), dtype=np.float32 )\n",
        "      X = np.concatenate( [X, row_ones] )\n",
        "      S = data['s']\n",
        "      dataset.append( {'name':dir, 'X':X, 'seg_ids':S} )\n",
        "  \n",
        "  for data in dataset:\n",
        "    print('Working on file: ', data['name'])\n",
        "\n",
        "    K = np.amax( data['seg_ids'] )\n",
        "\n",
        "    last_exec = data['name']\n",
        "    Z_star, E_star, params = lrr(data['X'], lamda, lrr_itr_max, norm_choice)\n",
        "    W = affinity_matrix(Z_star)\n",
        "    Ddiag = 1.0 / np.sqrt( W.sum(axis=1, dtype=np.float) )\n",
        "    D = np.diag(Ddiag)\n",
        "    DWD = np.dot( D, np.dot(W,D) )\n",
        "    L = np.identity( DWD.shape[0] ) - DWD\n",
        "    n = data['X'].shape[1]\n",
        "    U,s,Vh = np.linalg.svd(L)\n",
        "    soft_thres_s = soft_thres(s,t)\n",
        "    k = int( n - np.sum(soft_thres_s) )\n",
        "    err1 = 1.0*np.abs(K-k) / K\n",
        "    error1.append( err1 )\n",
        "    if(k == K):\n",
        "      num_pred = num_pred + 1\n",
        "\n",
        "  return error1, params, last_exec, num_pred\n"
      ],
      "execution_count": 15,
      "outputs": []
    },
    {
      "cell_type": "code",
      "metadata": {
        "id": "kqWsr3ptbonX",
        "colab": {
          "base_uri": "https://localhost:8080/"
        },
        "outputId": "ae71b547-348a-42f7-cca9-76b75e134d39"
      },
      "source": [
        "# Run this and the next 2 cells for lambda_k = 4, but different values of t_k = 0.06, 0.07, 0.08, 0.09, 0.10, 0.11\n",
        "# One run of this cell will take about 25-30 mins\n",
        "\n",
        "lamda_k = 4\n",
        "lrr_itr_max_k = 500\n",
        "t_k = 0.11\n",
        "norm_choice = 0\n",
        "error1, params, last_exec, num_pred = motion_seg_k(lamda_k, lrr_itr_max_k, t_k, norm_choice)"
      ],
      "execution_count": 16,
      "outputs": [
        {
          "output_type": "stream",
          "text": [
            "Working on file:  2T3RCR_g13\n",
            "Working on file:  1R2RC\n",
            "Working on file:  cars5\n",
            "Working on file:  cars2_07_g12\n",
            "Working on file:  cars2B_g23\n",
            "Working on file:  2T3RCRT_g12\n",
            "Working on file:  cars10\n",
            "Working on file:  cars5_g13\n",
            "Working on file:  two_cranes_g23\n",
            "Working on file:  2R3RTCRT\n",
            "Working on file:  cars2_06_g13\n",
            "Working on file:  people1\n",
            "Working on file:  people2\n",
            "Working on file:  cars2_06_g12\n",
            "Working on file:  cars8\n",
            "Working on file:  2R3RTC_g13\n",
            "Working on file:  cars1\n",
            "Working on file:  2RT3RTCRT\n",
            "Working on file:  1RT2TC_g13\n",
            "Working on file:  1R2RC_g12\n",
            "Working on file:  2T3RCRTP\n",
            "Working on file:  2T3RCRT_g23\n",
            "Working on file:  cars10_g23\n",
            "Working on file:  2RT3RCR_g23\n",
            "Working on file:  2RT3RCT_B_g12\n",
            "Working on file:  2RT3RCT_A_g12\n",
            "Working on file:  1R2RCT_A_g13\n",
            "Working on file:  1R2RCT_B_g13\n",
            "Working on file:  cars4\n",
            "Working on file:  1RT2RCR_g13\n",
            "Working on file:  2R3RTCRT_g12\n",
            "Working on file:  1R2RCT_B\n",
            "Working on file:  2RT3RCT_A_g23\n",
            "Working on file:  1R2RCR\n",
            "Working on file:  1RT2RCR\n",
            "Working on file:  2T3RCRTP_g23\n",
            "Working on file:  cars3\n",
            "Working on file:  cars2_07_g23\n",
            "Working on file:  cars3_g23\n",
            "Working on file:  1RT2TC\n",
            "Working on file:  1RT2TC_g23\n",
            "Working on file:  2RT3RCR\n",
            "Working on file:  2RT3RC_g12\n",
            "Working on file:  1R2TCR_g13\n",
            "Working on file:  cars6\n",
            "Working on file:  1R2RCR_g23\n",
            "Working on file:  1R2RCT_A_g23\n",
            "Working on file:  2R3RTC\n",
            "Working on file:  2T3RCRTP_g13\n",
            "Working on file:  cars9_g13\n",
            "Working on file:  three-cars_g12\n",
            "Working on file:  2RT3RCT_B_g13\n",
            "Working on file:  1R2RCT_B_g23\n",
            "Working on file:  2RT3RTCRT_g23\n",
            "Working on file:  cars5_g23\n",
            "Working on file:  1RT2TCRT_A_g23\n",
            "Working on file:  2RT3RTCRT_g12\n",
            "Working on file:  cars2_07\n",
            "Working on file:  cars2B\n",
            "Working on file:  1RT2RTCRT_A_g23\n",
            "Working on file:  2T3RCR_g23\n",
            "Working on file:  1RT2RCRT_g12\n",
            "Working on file:  1RT2TCRT_B_g13\n",
            "Working on file:  articulated_g23\n",
            "Working on file:  1R2RC_g23\n",
            "Working on file:  2T3RTCR_g23\n",
            "Working on file:  2RT3RCT_B_g23\n",
            "Working on file:  1R2RCT_B_g12\n",
            "Working on file:  cars2B_g13\n",
            "Working on file:  1R2TCRT\n",
            "Working on file:  2T3RTCR_g12\n",
            "Working on file:  1R2TCRT_g23\n",
            "Working on file:  1R2RCR_g12\n",
            "Working on file:  2R3RTCRT_g23\n",
            "Working on file:  2RT3RCT_A_g13\n",
            "Working on file:  1RT2TCRT_B\n",
            "Working on file:  1R2TCR_g12\n",
            "Working on file:  cars3_g12\n",
            "Working on file:  cars9\n",
            "Working on file:  2RT3RTCRT_g13\n",
            "Working on file:  1RT2TC_g12\n",
            "Working on file:  truck2\n",
            "Working on file:  head\n",
            "Working on file:  2T3RTCR\n",
            "Working on file:  kanatani3\n",
            "Working on file:  1R2TCRT_g13\n",
            "Working on file:  1RT2RTCRT_A_g12\n",
            "Working on file:  cars9_g23\n",
            "Working on file:  2RT3RCR_g13\n",
            "Working on file:  2RT3RCT_B\n",
            "Working on file:  three-cars_g13\n",
            "Working on file:  arm\n",
            "Working on file:  cars5_g12\n",
            "Working on file:  1RT2RTCRT_B_g13\n",
            "Working on file:  2T3RCR\n",
            "Working on file:  2T3RCTP\n",
            "Working on file:  1RT2RCRT\n",
            "Working on file:  1R2RCR_g13\n",
            "Working on file:  1RT2TCRT_A_g13\n",
            "Working on file:  2RT3RC_g23\n",
            "Working on file:  2RT3RCT_A\n",
            "Working on file:  1RT2RCR_g12\n",
            "Working on file:  1R2TCR\n",
            "Working on file:  cars2_06_g23\n",
            "Working on file:  1RT2RTCRT_B_g12\n",
            "Working on file:  dancing\n",
            "Working on file:  two_cranes_g12\n",
            "Working on file:  2T3RCTP_g12\n",
            "Working on file:  2T3RTCR_g13\n",
            "Working on file:  articulated\n",
            "Working on file:  1R2RC_g13\n",
            "Working on file:  two_cranes_g13\n",
            "Working on file:  articulated_g12\n",
            "Working on file:  1RT2RCR_g23\n",
            "Working on file:  2RT3RC_g13\n",
            "Working on file:  cars9_g12\n",
            "Working on file:  articulated_g13\n",
            "Working on file:  cars2_07_g13\n",
            "Working on file:  2RT3RCR_g12\n",
            "Working on file:  cars3_g13\n",
            "Working on file:  two_cranes\n",
            "Working on file:  cars2_06\n",
            "Working on file:  three-cars\n",
            "Working on file:  cars7\n",
            "Working on file:  2T3RCRT\n",
            "Working on file:  1RT2TCRT_B_g23\n",
            "Working on file:  2R3RTC_g23\n",
            "Working on file:  kanatani2\n",
            "Working on file:  kanatani1\n",
            "Working on file:  1RT2RCRT_g23\n",
            "Working on file:  1R2TCR_g23\n",
            "Working on file:  2T3RCTP_g13\n",
            "Working on file:  cars10_g12\n",
            "Working on file:  2RT3RC\n",
            "Working on file:  cars2\n",
            "Working on file:  1R2RCT_A_g12\n",
            "Working on file:  1RT2TCRT_A\n",
            "Working on file:  2T3RCTP_g23\n",
            "Working on file:  cars2B_g12\n",
            "Working on file:  truck1\n",
            "Working on file:  1RT2RTCRT_A_g13\n",
            "Working on file:  1RT2RTCRT_B_g23\n",
            "Working on file:  1R2TCRT_g12\n",
            "Working on file:  cars10_g13\n",
            "Working on file:  1RT2TCRT_A_g12\n",
            "Working on file:  2T3RCRT_g13\n",
            "Working on file:  1RT2RCRT_g13\n",
            "Working on file:  1RT2RTCRT_B\n",
            "Working on file:  three-cars_g23\n",
            "Working on file:  1R2RCT_A\n",
            "Working on file:  2T3RCRTP_g12\n",
            "Working on file:  2R3RTCRT_g13\n",
            "Working on file:  1RT2TCRT_B_g12\n",
            "Working on file:  1RT2RTCRT_A\n",
            "Working on file:  2T3RCR_g12\n",
            "Working on file:  2R3RTC_g12\n"
          ],
          "name": "stdout"
        }
      ]
    },
    {
      "cell_type": "code",
      "metadata": {
        "id": "Rmr0GbzHdM6l",
        "colab": {
          "base_uri": "https://localhost:8080/"
        },
        "outputId": "54cfc591-2481-43fd-b221-33ed96c88db3"
      },
      "source": [
        "from statistics import mean, stdev\n",
        "print('error statistics on hopkins155 - K estimation')\n",
        "print('lamda=',lamda_k)\n",
        "print('tau=',t_k)\n",
        "print('norm_choice=', norm_choice)\n",
        "print('mean error1',mean(error1))\n",
        "print('stdev error1', stdev(error1))\n",
        "print('max error1', max(error1))\n",
        "print('min error1', min(error1))\n",
        "print('No. of predicted:', num_pred)\n"
      ],
      "execution_count": 17,
      "outputs": [
        {
          "output_type": "stream",
          "text": [
            "error statistics on hopkins155 - K estimation\n",
            "lamda= 4\n",
            "tau= 0.11\n",
            "norm_choice= 0\n",
            "mean error1 0.27286324786324784\n",
            "stdev error1 0.2732468913189618\n",
            "max error1 1.5\n",
            "min error1 0.0\n",
            "No. of predicted: 69\n"
          ],
          "name": "stdout"
        }
      ]
    },
    {
      "cell_type": "code",
      "metadata": {
        "id": "llogR9NSdpo3",
        "colab": {
          "base_uri": "https://localhost:8080/",
          "height": 1000
        },
        "outputId": "6c9f9302-1c53-4287-fd87-0e651514ffbb"
      },
      "source": [
        "import matplotlib.pyplot as plt\n",
        "print('\\nParameter Evolution on file:', last_exec)\n",
        "iters = []\n",
        "mus = []\n",
        "rs = []\n",
        "rank_Zs = []\n",
        "max_norm_eqs = []\n",
        "for d in params:\n",
        "  iters.append(d['iter'])\n",
        "  mus.append(d['mu'])\n",
        "  rs.append(d['r'])\n",
        "  rank_Zs.append(d['rank_Z'])\n",
        "  max_norm_eqs.append(d['max_norm_eq'])\n",
        "\n",
        "print('Final values:')\n",
        "print('mu:',mus[-1], ' r:',rs[-1], ' max_norm_eq:',max_norm_eqs[-1], 'rank_Z:',rank_Zs[-1], ' iters:',iters[-1])\n",
        "\n",
        "plt.figure(figsize=(6,4))\n",
        "plt.rcParams.update({'font.size': 14})\n",
        "plt.plot(iters,mus)\n",
        "plt.xlabel('# iteration')\n",
        "plt.ylabel('\\u03BC')\n",
        "plt.show()\n",
        "\n",
        "plt.figure(figsize=(6,4))\n",
        "plt.rcParams.update({'font.size': 14})\n",
        "plt.plot(iters,rs)\n",
        "plt.xlabel('# iteration')\n",
        "plt.ylabel('rank(Z+Y2/\\u03BC)')\n",
        "plt.show()\n",
        "\n",
        "plt.figure(figsize=(6,4))\n",
        "plt.rcParams.update({'font.size': 14})\n",
        "plt.plot(iters,max_norm_eqs)\n",
        "plt.xlabel('# iteration')\n",
        "plt.ylabel('convergence error')\n",
        "plt.show()\n",
        "\n",
        "plt.figure(figsize=(6,4))\n",
        "plt.rcParams.update({'font.size': 14})\n",
        "plt.plot(iters,rank_Zs)\n",
        "plt.xlabel('# iteration')\n",
        "plt.ylabel('rank(Z)')\n",
        "plt.show()"
      ],
      "execution_count": 18,
      "outputs": [
        {
          "output_type": "stream",
          "text": [
            "\n",
            "Parameter Evolution on file: 2R3RTC_g12\n",
            "Final values:\n",
            "mu: 123948.02823537958  r: 9  max_norm_eq: 9.711357579211821e-09 rank_Z: 59  iters: 268\n"
          ],
          "name": "stdout"
        },
        {
          "output_type": "display_data",
          "data": {
            "image/png": "[encoded data removed]",
            "text/plain": [
              "<Figure size 432x288 with 1 Axes>"
            ]
          },
          "metadata": {
            "tags": [],
            "needs_background": "light"
          }
        },
        {
          "output_type": "display_data",
          "data": {
            "image/png": "[encoded data removed]",
            "text/plain": [
              "<Figure size 432x288 with 1 Axes>"
            ]
          },
          "metadata": {
            "tags": [],
            "needs_background": "light"
          }
        },
        {
          "output_type": "display_data",
          "data": {
            "image/png": "[encoded data removed]",
            "text/plain": [
              "<Figure size 432x288 with 1 Axes>"
            ]
          },
          "metadata": {
            "tags": [],
            "needs_background": "light"
          }
        },
        {
          "output_type": "display_data",
          "data": {
            "image/png": "[encoded data removed]",
            "text/plain": [
              "<Figure size 432x288 with 1 Axes>"
            ]
          },
          "metadata": {
            "tags": [],
            "needs_background": "light"
          }
        }
      ]
    },
    {
      "cell_type": "code",
      "metadata": {
        "id": "l0PdXr1DhQKC"
      },
      "source": [
        ""
      ],
      "execution_count": 18,
      "outputs": []
    },
    {
      "cell_type": "code",
      "metadata": {
        "id": "lPOuWXFYmS6d"
      },
      "source": [
        ""
      ],
      "execution_count": 18,
      "outputs": []
    },
    {
      "cell_type": "code",
      "metadata": {
        "id": "RweH6wrOmTWi",
        "colab": {
          "base_uri": "https://localhost:8080/",
          "height": 287
        },
        "outputId": "8c61e858-20e8-4780-aad5-c7ed0584be4e"
      },
      "source": [
        "# motion_segmentation (mean error vs lamda plot)\n",
        "# norm_choice = 0\n",
        "lamda = np.array([1.0, 2.0, 3.0, 3.6, 4.0, 4.6, 6.0, 7.0])\n",
        "mean_error = np.array([ 0.026637113764302226,  0.023475780703100305, 0.02016318489349344,  0.01779393939225322, 0.017418053639225082, 0.017213136077969312, 0.028186935117254917, 0.031127707291906805])\n",
        "plt.figure(figsize=(6,4))\n",
        "plt.rcParams.update({'font.size': 14})\n",
        "plt.plot(lamda,mean_error,'-o')\n",
        "plt.xlabel('\\u03BB')\n",
        "plt.ylabel('Mean Error')\n",
        "plt.show()"
      ],
      "execution_count": 19,
      "outputs": [
        {
          "output_type": "display_data",
          "data": {
            "image/png": "[encoded data removed]",
            "text/plain": [
              "<Figure size 432x288 with 1 Axes>"
            ]
          },
          "metadata": {
            "tags": [],
            "needs_background": "light"
          }
        }
      ]
    },
    {
      "cell_type": "code",
      "metadata": {
        "id": "eBxMWjiCoagI",
        "colab": {
          "base_uri": "https://localhost:8080/",
          "height": 287
        },
        "outputId": "a535c829-4e94-4519-d564-e5b96d6a57ef"
      },
      "source": [
        "# face segmentation (yaleb10) (accuracy vs lambda plot)\n",
        "# norm_choice = 0\n",
        "lamda = np.array([0.06, 0.1, 0.12, 0.14, 0.16, 0.18, 0.20, 0.22])\n",
        "acc = np.array([0.584375, 0.5203125, 0.44375, 0.534375, 0.634375, 0.459375, 0.5453125, 0.5328125])\n",
        "plt.figure(figsize=(6,4))\n",
        "plt.rcParams.update({'font.size': 14})\n",
        "plt.plot(lamda,acc,'-o')\n",
        "plt.xlabel('\\u03BB')\n",
        "plt.ylabel('Accuracy')\n",
        "plt.show()"
      ],
      "execution_count": 20,
      "outputs": [
        {
          "output_type": "display_data",
          "data": {
            "image/png": "[encoded data removed]",
            "text/plain": [
              "<Figure size 432x288 with 1 Axes>"
            ]
          },
          "metadata": {
            "tags": [],
            "needs_background": "light"
          }
        }
      ]
    },
    {
      "cell_type": "code",
      "metadata": {
        "id": "LBPFE003sITo"
      },
      "source": [
        ""
      ],
      "execution_count": 20,
      "outputs": []
    }
  ]
}